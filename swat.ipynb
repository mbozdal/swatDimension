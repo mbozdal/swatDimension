{
  "cells": [
    {
      "cell_type": "markdown",
      "metadata": {
        "id": "view-in-github",
        "colab_type": "text"
      },
      "source": [
        "<a href=\"https://colab.research.google.com/github/mbozdal/swatDimension/blob/main/swat.ipynb\" target=\"_parent\"><img src=\"https://colab.research.google.com/assets/colab-badge.svg\" alt=\"Open In Colab\"/></a>"
      ]
    },
    {
      "cell_type": "code",
      "execution_count": null,
      "metadata": {
        "id": "Lv-C1suFpjmZ"
      },
      "outputs": [],
      "source": [
        "this is test2\n",
        "import pandas as pd\n",
        "import numpy as np"
      ]
    },
    {
      "cell_type": "code",
      "execution_count": null,
      "metadata": {
        "colab": {
          "base_uri": "https://localhost:8080/"
        },
        "id": "sNv_QjXuqDrZ",
        "outputId": "393cb750-e5cb-4e6a-9895-ee09a72ddcc6"
      },
      "outputs": [
        {
          "output_type": "stream",
          "name": "stdout",
          "text": [
            "Mounted at /content/drive\n"
          ]
        }
      ],
      "source": [
        "from google.colab import drive\n",
        "drive.mount('/content/drive')"
      ]
    },
    {
      "cell_type": "code",
      "execution_count": null,
      "metadata": {
        "colab": {
          "base_uri": "https://localhost:8080/",
          "height": 676
        },
        "id": "rqM3GGQMqFHZ",
        "outputId": "bd72be21-7a64-4210-9e99-5ed595ead2a8"
      },
      "outputs": [
        {
          "output_type": "stream",
          "name": "stderr",
          "text": [
            "/usr/local/lib/python3.8/dist-packages/openpyxl/worksheet/_reader.py:312: UserWarning: Unknown extension is not supported and will be removed\n",
            "  warn(msg)\n"
          ]
        },
        {
          "output_type": "execute_result",
          "data": {
            "text/plain": [
              "                     Unnamed: 0 Unnamed: 1 Unnamed: 2 Unnamed: 3 Unnamed: 4  \\\n",
              "0                     Timestamp     FIT101     LIT101      MV101       P101   \n",
              "1        28/12/2015 10:00:00 AM   2.427057   522.8467          2          2   \n",
              "2        28/12/2015 10:00:01 AM   2.446274    522.886          2          2   \n",
              "3        28/12/2015 10:00:02 AM   2.489191   522.8467          2          2   \n",
              "4        28/12/2015 10:00:03 AM    2.53435   522.9645          2          2   \n",
              "...                         ...        ...        ...        ...        ...   \n",
              "449915      2/1/2016 2:59:55 PM   2.559972   519.5495          2          2   \n",
              "449916      2/1/2016 2:59:56 PM   2.549082   520.4131          2          2   \n",
              "449917      2/1/2016 2:59:57 PM   2.531467   520.6878          2          2   \n",
              "449918      2/1/2016 2:59:58 PM   2.521218   520.7271          2          2   \n",
              "449919      2/1/2016 2:59:59 PM   2.501681   521.1196          2          2   \n",
              "\n",
              "       Unnamed: 5 Unnamed: 6 Unnamed: 7 Unnamed: 8 Unnamed: 9  ...  \\\n",
              "0            P102     AIT201     AIT202     AIT203     FIT201  ...   \n",
              "1               1   262.0161   8.396437   328.6337   2.445391  ...   \n",
              "2               1   262.0161   8.396437   328.6337   2.445391  ...   \n",
              "3               1   262.0161   8.394514   328.6337   2.442316  ...   \n",
              "4               1   262.0161   8.394514   328.6337   2.442316  ...   \n",
              "...           ...        ...        ...        ...        ...  ...   \n",
              "449915          1   168.0979   8.638683   301.9226   2.459488  ...   \n",
              "449916          1   168.0979   8.638683   301.9226   2.459488  ...   \n",
              "449917          1   168.0979   8.638683   301.9226   2.460129  ...   \n",
              "449918          1   168.0979   8.638683   301.9226   2.460129  ...   \n",
              "449919          1   168.0979   8.638683   301.9226   2.458206  ...   \n",
              "\n",
              "       Unnamed: 43 Unnamed: 44 Unnamed: 45 Unnamed: 46 Unnamed: 47  \\\n",
              "0             P501        P502      PIT501      PIT502      PIT503   \n",
              "1                2           1    250.8652    1.649953    189.5988   \n",
              "2                2           1    250.8652    1.649953    189.6789   \n",
              "3                2           1    250.8812    1.649953    189.6789   \n",
              "4                2           1    250.8812    1.649953    189.6148   \n",
              "...            ...         ...         ...         ...         ...   \n",
              "449915           2           1    251.1535    0.865024     189.022   \n",
              "449916           2           1    251.0734    0.865024    188.9259   \n",
              "449917           2           1    251.0734    0.865024    188.9259   \n",
              "449918           2           1    251.0734    0.865024    188.9259   \n",
              "449919           2           1    251.0734    0.865024    188.9259   \n",
              "\n",
              "       Unnamed: 48 Unnamed: 49 Unnamed: 50 Unnamed: 51    Unnamed: 52  \n",
              "0           FIT601        P601        P602        P603  Normal/Attack  \n",
              "1         0.000128           1           1           1         Normal  \n",
              "2         0.000128           1           1           1         Normal  \n",
              "3         0.000128           1           1           1         Normal  \n",
              "4         0.000128           1           1           1         Normal  \n",
              "...            ...         ...         ...         ...            ...  \n",
              "449915           0           1           1           1         Normal  \n",
              "449916           0           1           1           1         Normal  \n",
              "449917           0           1           1           1         Normal  \n",
              "449918           0           1           1           1         Normal  \n",
              "449919           0           1           1           1         Normal  \n",
              "\n",
              "[449920 rows x 53 columns]"
            ],
            "text/html": [
              "\n",
              "  <div id=\"df-5dba02d6-1d22-4d03-8547-368ee3eaced9\">\n",
              "    <div class=\"colab-df-container\">\n",
              "      <div>\n",
              "<style scoped>\n",
              "    .dataframe tbody tr th:only-of-type {\n",
              "        vertical-align: middle;\n",
              "    }\n",
              "\n",
              "    .dataframe tbody tr th {\n",
              "        vertical-align: top;\n",
              "    }\n",
              "\n",
              "    .dataframe thead th {\n",
              "        text-align: right;\n",
              "    }\n",
              "</style>\n",
              "<table border=\"1\" class=\"dataframe\">\n",
              "  <thead>\n",
              "    <tr style=\"text-align: right;\">\n",
              "      <th></th>\n",
              "      <th>Unnamed: 0</th>\n",
              "      <th>Unnamed: 1</th>\n",
              "      <th>Unnamed: 2</th>\n",
              "      <th>Unnamed: 3</th>\n",
              "      <th>Unnamed: 4</th>\n",
              "      <th>Unnamed: 5</th>\n",
              "      <th>Unnamed: 6</th>\n",
              "      <th>Unnamed: 7</th>\n",
              "      <th>Unnamed: 8</th>\n",
              "      <th>Unnamed: 9</th>\n",
              "      <th>...</th>\n",
              "      <th>Unnamed: 43</th>\n",
              "      <th>Unnamed: 44</th>\n",
              "      <th>Unnamed: 45</th>\n",
              "      <th>Unnamed: 46</th>\n",
              "      <th>Unnamed: 47</th>\n",
              "      <th>Unnamed: 48</th>\n",
              "      <th>Unnamed: 49</th>\n",
              "      <th>Unnamed: 50</th>\n",
              "      <th>Unnamed: 51</th>\n",
              "      <th>Unnamed: 52</th>\n",
              "    </tr>\n",
              "  </thead>\n",
              "  <tbody>\n",
              "    <tr>\n",
              "      <th>0</th>\n",
              "      <td>Timestamp</td>\n",
              "      <td>FIT101</td>\n",
              "      <td>LIT101</td>\n",
              "      <td>MV101</td>\n",
              "      <td>P101</td>\n",
              "      <td>P102</td>\n",
              "      <td>AIT201</td>\n",
              "      <td>AIT202</td>\n",
              "      <td>AIT203</td>\n",
              "      <td>FIT201</td>\n",
              "      <td>...</td>\n",
              "      <td>P501</td>\n",
              "      <td>P502</td>\n",
              "      <td>PIT501</td>\n",
              "      <td>PIT502</td>\n",
              "      <td>PIT503</td>\n",
              "      <td>FIT601</td>\n",
              "      <td>P601</td>\n",
              "      <td>P602</td>\n",
              "      <td>P603</td>\n",
              "      <td>Normal/Attack</td>\n",
              "    </tr>\n",
              "    <tr>\n",
              "      <th>1</th>\n",
              "      <td>28/12/2015 10:00:00 AM</td>\n",
              "      <td>2.427057</td>\n",
              "      <td>522.8467</td>\n",
              "      <td>2</td>\n",
              "      <td>2</td>\n",
              "      <td>1</td>\n",
              "      <td>262.0161</td>\n",
              "      <td>8.396437</td>\n",
              "      <td>328.6337</td>\n",
              "      <td>2.445391</td>\n",
              "      <td>...</td>\n",
              "      <td>2</td>\n",
              "      <td>1</td>\n",
              "      <td>250.8652</td>\n",
              "      <td>1.649953</td>\n",
              "      <td>189.5988</td>\n",
              "      <td>0.000128</td>\n",
              "      <td>1</td>\n",
              "      <td>1</td>\n",
              "      <td>1</td>\n",
              "      <td>Normal</td>\n",
              "    </tr>\n",
              "    <tr>\n",
              "      <th>2</th>\n",
              "      <td>28/12/2015 10:00:01 AM</td>\n",
              "      <td>2.446274</td>\n",
              "      <td>522.886</td>\n",
              "      <td>2</td>\n",
              "      <td>2</td>\n",
              "      <td>1</td>\n",
              "      <td>262.0161</td>\n",
              "      <td>8.396437</td>\n",
              "      <td>328.6337</td>\n",
              "      <td>2.445391</td>\n",
              "      <td>...</td>\n",
              "      <td>2</td>\n",
              "      <td>1</td>\n",
              "      <td>250.8652</td>\n",
              "      <td>1.649953</td>\n",
              "      <td>189.6789</td>\n",
              "      <td>0.000128</td>\n",
              "      <td>1</td>\n",
              "      <td>1</td>\n",
              "      <td>1</td>\n",
              "      <td>Normal</td>\n",
              "    </tr>\n",
              "    <tr>\n",
              "      <th>3</th>\n",
              "      <td>28/12/2015 10:00:02 AM</td>\n",
              "      <td>2.489191</td>\n",
              "      <td>522.8467</td>\n",
              "      <td>2</td>\n",
              "      <td>2</td>\n",
              "      <td>1</td>\n",
              "      <td>262.0161</td>\n",
              "      <td>8.394514</td>\n",
              "      <td>328.6337</td>\n",
              "      <td>2.442316</td>\n",
              "      <td>...</td>\n",
              "      <td>2</td>\n",
              "      <td>1</td>\n",
              "      <td>250.8812</td>\n",
              "      <td>1.649953</td>\n",
              "      <td>189.6789</td>\n",
              "      <td>0.000128</td>\n",
              "      <td>1</td>\n",
              "      <td>1</td>\n",
              "      <td>1</td>\n",
              "      <td>Normal</td>\n",
              "    </tr>\n",
              "    <tr>\n",
              "      <th>4</th>\n",
              "      <td>28/12/2015 10:00:03 AM</td>\n",
              "      <td>2.53435</td>\n",
              "      <td>522.9645</td>\n",
              "      <td>2</td>\n",
              "      <td>2</td>\n",
              "      <td>1</td>\n",
              "      <td>262.0161</td>\n",
              "      <td>8.394514</td>\n",
              "      <td>328.6337</td>\n",
              "      <td>2.442316</td>\n",
              "      <td>...</td>\n",
              "      <td>2</td>\n",
              "      <td>1</td>\n",
              "      <td>250.8812</td>\n",
              "      <td>1.649953</td>\n",
              "      <td>189.6148</td>\n",
              "      <td>0.000128</td>\n",
              "      <td>1</td>\n",
              "      <td>1</td>\n",
              "      <td>1</td>\n",
              "      <td>Normal</td>\n",
              "    </tr>\n",
              "    <tr>\n",
              "      <th>...</th>\n",
              "      <td>...</td>\n",
              "      <td>...</td>\n",
              "      <td>...</td>\n",
              "      <td>...</td>\n",
              "      <td>...</td>\n",
              "      <td>...</td>\n",
              "      <td>...</td>\n",
              "      <td>...</td>\n",
              "      <td>...</td>\n",
              "      <td>...</td>\n",
              "      <td>...</td>\n",
              "      <td>...</td>\n",
              "      <td>...</td>\n",
              "      <td>...</td>\n",
              "      <td>...</td>\n",
              "      <td>...</td>\n",
              "      <td>...</td>\n",
              "      <td>...</td>\n",
              "      <td>...</td>\n",
              "      <td>...</td>\n",
              "      <td>...</td>\n",
              "    </tr>\n",
              "    <tr>\n",
              "      <th>449915</th>\n",
              "      <td>2/1/2016 2:59:55 PM</td>\n",
              "      <td>2.559972</td>\n",
              "      <td>519.5495</td>\n",
              "      <td>2</td>\n",
              "      <td>2</td>\n",
              "      <td>1</td>\n",
              "      <td>168.0979</td>\n",
              "      <td>8.638683</td>\n",
              "      <td>301.9226</td>\n",
              "      <td>2.459488</td>\n",
              "      <td>...</td>\n",
              "      <td>2</td>\n",
              "      <td>1</td>\n",
              "      <td>251.1535</td>\n",
              "      <td>0.865024</td>\n",
              "      <td>189.022</td>\n",
              "      <td>0</td>\n",
              "      <td>1</td>\n",
              "      <td>1</td>\n",
              "      <td>1</td>\n",
              "      <td>Normal</td>\n",
              "    </tr>\n",
              "    <tr>\n",
              "      <th>449916</th>\n",
              "      <td>2/1/2016 2:59:56 PM</td>\n",
              "      <td>2.549082</td>\n",
              "      <td>520.4131</td>\n",
              "      <td>2</td>\n",
              "      <td>2</td>\n",
              "      <td>1</td>\n",
              "      <td>168.0979</td>\n",
              "      <td>8.638683</td>\n",
              "      <td>301.9226</td>\n",
              "      <td>2.459488</td>\n",
              "      <td>...</td>\n",
              "      <td>2</td>\n",
              "      <td>1</td>\n",
              "      <td>251.0734</td>\n",
              "      <td>0.865024</td>\n",
              "      <td>188.9259</td>\n",
              "      <td>0</td>\n",
              "      <td>1</td>\n",
              "      <td>1</td>\n",
              "      <td>1</td>\n",
              "      <td>Normal</td>\n",
              "    </tr>\n",
              "    <tr>\n",
              "      <th>449917</th>\n",
              "      <td>2/1/2016 2:59:57 PM</td>\n",
              "      <td>2.531467</td>\n",
              "      <td>520.6878</td>\n",
              "      <td>2</td>\n",
              "      <td>2</td>\n",
              "      <td>1</td>\n",
              "      <td>168.0979</td>\n",
              "      <td>8.638683</td>\n",
              "      <td>301.9226</td>\n",
              "      <td>2.460129</td>\n",
              "      <td>...</td>\n",
              "      <td>2</td>\n",
              "      <td>1</td>\n",
              "      <td>251.0734</td>\n",
              "      <td>0.865024</td>\n",
              "      <td>188.9259</td>\n",
              "      <td>0</td>\n",
              "      <td>1</td>\n",
              "      <td>1</td>\n",
              "      <td>1</td>\n",
              "      <td>Normal</td>\n",
              "    </tr>\n",
              "    <tr>\n",
              "      <th>449918</th>\n",
              "      <td>2/1/2016 2:59:58 PM</td>\n",
              "      <td>2.521218</td>\n",
              "      <td>520.7271</td>\n",
              "      <td>2</td>\n",
              "      <td>2</td>\n",
              "      <td>1</td>\n",
              "      <td>168.0979</td>\n",
              "      <td>8.638683</td>\n",
              "      <td>301.9226</td>\n",
              "      <td>2.460129</td>\n",
              "      <td>...</td>\n",
              "      <td>2</td>\n",
              "      <td>1</td>\n",
              "      <td>251.0734</td>\n",
              "      <td>0.865024</td>\n",
              "      <td>188.9259</td>\n",
              "      <td>0</td>\n",
              "      <td>1</td>\n",
              "      <td>1</td>\n",
              "      <td>1</td>\n",
              "      <td>Normal</td>\n",
              "    </tr>\n",
              "    <tr>\n",
              "      <th>449919</th>\n",
              "      <td>2/1/2016 2:59:59 PM</td>\n",
              "      <td>2.501681</td>\n",
              "      <td>521.1196</td>\n",
              "      <td>2</td>\n",
              "      <td>2</td>\n",
              "      <td>1</td>\n",
              "      <td>168.0979</td>\n",
              "      <td>8.638683</td>\n",
              "      <td>301.9226</td>\n",
              "      <td>2.458206</td>\n",
              "      <td>...</td>\n",
              "      <td>2</td>\n",
              "      <td>1</td>\n",
              "      <td>251.0734</td>\n",
              "      <td>0.865024</td>\n",
              "      <td>188.9259</td>\n",
              "      <td>0</td>\n",
              "      <td>1</td>\n",
              "      <td>1</td>\n",
              "      <td>1</td>\n",
              "      <td>Normal</td>\n",
              "    </tr>\n",
              "  </tbody>\n",
              "</table>\n",
              "<p>449920 rows × 53 columns</p>\n",
              "</div>\n",
              "      <button class=\"colab-df-convert\" onclick=\"convertToInteractive('df-5dba02d6-1d22-4d03-8547-368ee3eaced9')\"\n",
              "              title=\"Convert this dataframe to an interactive table.\"\n",
              "              style=\"display:none;\">\n",
              "        \n",
              "  <svg xmlns=\"http://www.w3.org/2000/svg\" height=\"24px\"viewBox=\"0 0 24 24\"\n",
              "       width=\"24px\">\n",
              "    <path d=\"M0 0h24v24H0V0z\" fill=\"none\"/>\n",
              "    <path d=\"M18.56 5.44l.94 2.06.94-2.06 2.06-.94-2.06-.94-.94-2.06-.94 2.06-2.06.94zm-11 1L8.5 8.5l.94-2.06 2.06-.94-2.06-.94L8.5 2.5l-.94 2.06-2.06.94zm10 10l.94 2.06.94-2.06 2.06-.94-2.06-.94-.94-2.06-.94 2.06-2.06.94z\"/><path d=\"M17.41 7.96l-1.37-1.37c-.4-.4-.92-.59-1.43-.59-.52 0-1.04.2-1.43.59L10.3 9.45l-7.72 7.72c-.78.78-.78 2.05 0 2.83L4 21.41c.39.39.9.59 1.41.59.51 0 1.02-.2 1.41-.59l7.78-7.78 2.81-2.81c.8-.78.8-2.07 0-2.86zM5.41 20L4 18.59l7.72-7.72 1.47 1.35L5.41 20z\"/>\n",
              "  </svg>\n",
              "      </button>\n",
              "      \n",
              "  <style>\n",
              "    .colab-df-container {\n",
              "      display:flex;\n",
              "      flex-wrap:wrap;\n",
              "      gap: 12px;\n",
              "    }\n",
              "\n",
              "    .colab-df-convert {\n",
              "      background-color: #E8F0FE;\n",
              "      border: none;\n",
              "      border-radius: 50%;\n",
              "      cursor: pointer;\n",
              "      display: none;\n",
              "      fill: #1967D2;\n",
              "      height: 32px;\n",
              "      padding: 0 0 0 0;\n",
              "      width: 32px;\n",
              "    }\n",
              "\n",
              "    .colab-df-convert:hover {\n",
              "      background-color: #E2EBFA;\n",
              "      box-shadow: 0px 1px 2px rgba(60, 64, 67, 0.3), 0px 1px 3px 1px rgba(60, 64, 67, 0.15);\n",
              "      fill: #174EA6;\n",
              "    }\n",
              "\n",
              "    [theme=dark] .colab-df-convert {\n",
              "      background-color: #3B4455;\n",
              "      fill: #D2E3FC;\n",
              "    }\n",
              "\n",
              "    [theme=dark] .colab-df-convert:hover {\n",
              "      background-color: #434B5C;\n",
              "      box-shadow: 0px 1px 3px 1px rgba(0, 0, 0, 0.15);\n",
              "      filter: drop-shadow(0px 1px 2px rgba(0, 0, 0, 0.3));\n",
              "      fill: #FFFFFF;\n",
              "    }\n",
              "  </style>\n",
              "\n",
              "      <script>\n",
              "        const buttonEl =\n",
              "          document.querySelector('#df-5dba02d6-1d22-4d03-8547-368ee3eaced9 button.colab-df-convert');\n",
              "        buttonEl.style.display =\n",
              "          google.colab.kernel.accessAllowed ? 'block' : 'none';\n",
              "\n",
              "        async function convertToInteractive(key) {\n",
              "          const element = document.querySelector('#df-5dba02d6-1d22-4d03-8547-368ee3eaced9');\n",
              "          const dataTable =\n",
              "            await google.colab.kernel.invokeFunction('convertToInteractive',\n",
              "                                                     [key], {});\n",
              "          if (!dataTable) return;\n",
              "\n",
              "          const docLinkHtml = 'Like what you see? Visit the ' +\n",
              "            '<a target=\"_blank\" href=https://colab.research.google.com/notebooks/data_table.ipynb>data table notebook</a>'\n",
              "            + ' to learn more about interactive tables.';\n",
              "          element.innerHTML = '';\n",
              "          dataTable['output_type'] = 'display_data';\n",
              "          await google.colab.output.renderOutput(dataTable, element);\n",
              "          const docLink = document.createElement('div');\n",
              "          docLink.innerHTML = docLinkHtml;\n",
              "          element.appendChild(docLink);\n",
              "        }\n",
              "      </script>\n",
              "    </div>\n",
              "  </div>\n",
              "  "
            ]
          },
          "metadata": {},
          "execution_count": 3
        }
      ],
      "source": [
        "excel_data = pd.read_excel('/content/drive/MyDrive/SWaT_Dataset_Attack_v0.xlsx')\n",
        "\n",
        "data = pd.DataFrame(excel_data)\n",
        "\n",
        "data"
      ]
    },
    {
      "cell_type": "code",
      "source": [],
      "metadata": {
        "id": "LZVSpUBu1l4d"
      },
      "execution_count": null,
      "outputs": []
    },
    {
      "cell_type": "code",
      "execution_count": null,
      "metadata": {
        "id": "j8U-PieWq0HS"
      },
      "outputs": [],
      "source": [
        "data = data.to_numpy() "
      ]
    },
    {
      "cell_type": "code",
      "execution_count": null,
      "metadata": {
        "colab": {
          "base_uri": "https://localhost:8080/"
        },
        "id": "QFT5OdL7rSbk",
        "outputId": "c9268d48-864b-4444-b4ca-2e24e49366d8"
      },
      "outputs": [
        {
          "output_type": "execute_result",
          "data": {
            "text/plain": [
              "(449920, 53)"
            ]
          },
          "metadata": {},
          "execution_count": 5
        }
      ],
      "source": [
        "data.shape"
      ]
    },
    {
      "cell_type": "code",
      "execution_count": null,
      "metadata": {
        "colab": {
          "base_uri": "https://localhost:8080/"
        },
        "id": "5N1fhf6Li9Qj",
        "outputId": "99ab8820-1725-4700-d7f2-6fe92c8d84c7"
      },
      "outputs": [
        {
          "output_type": "execute_result",
          "data": {
            "text/plain": [
              "(449919, 53)"
            ]
          },
          "metadata": {},
          "execution_count": 6
        }
      ],
      "source": [
        "data = data[1:, :]\n",
        "data.shape"
      ]
    },
    {
      "cell_type": "code",
      "source": [
        "data_new = data.copy() # data yı değiştirince "
      ],
      "metadata": {
        "id": "n4QHqyQobDnk"
      },
      "execution_count": null,
      "outputs": []
    },
    {
      "cell_type": "code",
      "execution_count": null,
      "metadata": {
        "colab": {
          "base_uri": "https://localhost:8080/"
        },
        "id": "KEFWc39Oi9Ns",
        "outputId": "71ead1ea-3ccd-4731-95ee-417f4ee402d2"
      },
      "outputs": [
        {
          "output_type": "execute_result",
          "data": {
            "text/plain": [
              "array([' 28/12/2015 11:59:55 AM', ' 28/12/2015 11:59:56 AM',\n",
              "       ' 28/12/2015 11:59:57 AM', ' 28/12/2015 11:59:58 AM',\n",
              "       ' 28/12/2015 11:59:59 AM', ' 28/12/2015 12:00:00 PM',\n",
              "       ' 28/12/2015 12:00:01 PM', ' 28/12/2015 12:00:02 PM',\n",
              "       ' 28/12/2015 12:00:03 PM', ' 28/12/2015 12:00:04 PM'], dtype=object)"
            ]
          },
          "metadata": {},
          "execution_count": 8
        }
      ],
      "source": [
        "data_new[:,0][7195:7205]"
      ]
    },
    {
      "cell_type": "code",
      "execution_count": null,
      "metadata": {
        "id": "ro6JnzG4up8e"
      },
      "outputs": [],
      "source": [
        "from datetime import datetime"
      ]
    },
    {
      "cell_type": "code",
      "execution_count": null,
      "metadata": {
        "id": "DuYdzArtum4-"
      },
      "outputs": [],
      "source": [
        "data[:,0] = [datetime.strptime(dt, \" %d/%m/%Y %H:%M:%S %p\") for dt in data[:,0]]"
      ]
    },
    {
      "cell_type": "code",
      "execution_count": null,
      "metadata": {
        "id": "0bjPljMcncO7"
      },
      "outputs": [],
      "source": [
        "data = data[data[:,0].argsort()]"
      ]
    },
    {
      "cell_type": "code",
      "execution_count": null,
      "metadata": {
        "colab": {
          "base_uri": "https://localhost:8080/"
        },
        "id": "nUpnMMmKu730",
        "outputId": "2fc370db-faa2-4ead-d947-9afbc94f6237"
      },
      "outputs": [
        {
          "output_type": "execute_result",
          "data": {
            "text/plain": [
              "(449919, 53)"
            ]
          },
          "metadata": {},
          "execution_count": 12
        }
      ],
      "source": [
        "data.shape"
      ]
    },
    {
      "cell_type": "code",
      "execution_count": null,
      "metadata": {
        "colab": {
          "base_uri": "https://localhost:8080/"
        },
        "id": "mUrw_jwDu8nF",
        "outputId": "fb23d3a1-cc70-4c84-da3d-41c1618be925"
      },
      "outputs": [
        {
          "output_type": "execute_result",
          "data": {
            "text/plain": [
              "array([datetime.datetime(2015, 12, 28, 2, 59, 55),\n",
              "       datetime.datetime(2015, 12, 28, 2, 59, 56),\n",
              "       datetime.datetime(2015, 12, 28, 2, 59, 57), ...,\n",
              "       datetime.datetime(2015, 12, 28, 9, 19, 57),\n",
              "       datetime.datetime(2015, 12, 28, 9, 19, 58),\n",
              "       datetime.datetime(2015, 12, 28, 9, 19, 59)], dtype=object)"
            ]
          },
          "metadata": {},
          "execution_count": 13
        }
      ],
      "source": [
        "data[:,0][7195:30000]"
      ]
    },
    {
      "cell_type": "code",
      "execution_count": null,
      "metadata": {
        "id": "9lwCkG-Cu_UT",
        "colab": {
          "base_uri": "https://localhost:8080/",
          "height": 236
        },
        "outputId": "a202f84b-d4be-405f-9134-a168efe1dc05"
      },
      "outputs": [
        {
          "output_type": "execute_result",
          "data": {
            "text/plain": [
              "                   0  1         2  3  4  5         6         7         8   \\\n",
              "0 2015-12-28 01:00:00  0  634.2853  1  2  1  263.2979  8.365676  330.6844   \n",
              "1 2015-12-28 01:00:01  0  634.0498  1  2  1  263.2979  8.364715  330.6844   \n",
              "2 2015-12-28 01:00:02  0  633.6573  1  2  1  263.2979  8.364715  330.6844   \n",
              "3 2015-12-28 01:00:03  0  633.5788  1  2  1  263.2979  8.364715  330.6844   \n",
              "4 2015-12-28 01:00:04  0  633.1862  1  2  1  263.2979  8.364715  330.6844   \n",
              "\n",
              "         9   ... 43 44        45        46        47        48 49 50 51  \\\n",
              "0  2.450646  ...  2  1  248.1415  1.746067  187.3238  0.000128  1  1  1   \n",
              "1  2.450646  ...  2  1  248.1415  1.746067  187.3238  0.000128  1  1  1   \n",
              "2  2.450646  ...  2  1  248.1415  1.746067  187.3238  0.000128  1  1  1   \n",
              "3  2.450646  ...  2  1  248.1415  1.746067  187.3238  0.000128  1  1  1   \n",
              "4  2.449364  ...  2  1  248.1415  1.746067  187.1635  0.000128  1  1  1   \n",
              "\n",
              "       52  \n",
              "0  Normal  \n",
              "1  Normal  \n",
              "2  Normal  \n",
              "3  Normal  \n",
              "4  Normal  \n",
              "\n",
              "[5 rows x 53 columns]"
            ],
            "text/html": [
              "\n",
              "  <div id=\"df-9ef084a2-91b9-4ff6-aae6-5ca9545070cc\">\n",
              "    <div class=\"colab-df-container\">\n",
              "      <div>\n",
              "<style scoped>\n",
              "    .dataframe tbody tr th:only-of-type {\n",
              "        vertical-align: middle;\n",
              "    }\n",
              "\n",
              "    .dataframe tbody tr th {\n",
              "        vertical-align: top;\n",
              "    }\n",
              "\n",
              "    .dataframe thead th {\n",
              "        text-align: right;\n",
              "    }\n",
              "</style>\n",
              "<table border=\"1\" class=\"dataframe\">\n",
              "  <thead>\n",
              "    <tr style=\"text-align: right;\">\n",
              "      <th></th>\n",
              "      <th>0</th>\n",
              "      <th>1</th>\n",
              "      <th>2</th>\n",
              "      <th>3</th>\n",
              "      <th>4</th>\n",
              "      <th>5</th>\n",
              "      <th>6</th>\n",
              "      <th>7</th>\n",
              "      <th>8</th>\n",
              "      <th>9</th>\n",
              "      <th>...</th>\n",
              "      <th>43</th>\n",
              "      <th>44</th>\n",
              "      <th>45</th>\n",
              "      <th>46</th>\n",
              "      <th>47</th>\n",
              "      <th>48</th>\n",
              "      <th>49</th>\n",
              "      <th>50</th>\n",
              "      <th>51</th>\n",
              "      <th>52</th>\n",
              "    </tr>\n",
              "  </thead>\n",
              "  <tbody>\n",
              "    <tr>\n",
              "      <th>0</th>\n",
              "      <td>2015-12-28 01:00:00</td>\n",
              "      <td>0</td>\n",
              "      <td>634.2853</td>\n",
              "      <td>1</td>\n",
              "      <td>2</td>\n",
              "      <td>1</td>\n",
              "      <td>263.2979</td>\n",
              "      <td>8.365676</td>\n",
              "      <td>330.6844</td>\n",
              "      <td>2.450646</td>\n",
              "      <td>...</td>\n",
              "      <td>2</td>\n",
              "      <td>1</td>\n",
              "      <td>248.1415</td>\n",
              "      <td>1.746067</td>\n",
              "      <td>187.3238</td>\n",
              "      <td>0.000128</td>\n",
              "      <td>1</td>\n",
              "      <td>1</td>\n",
              "      <td>1</td>\n",
              "      <td>Normal</td>\n",
              "    </tr>\n",
              "    <tr>\n",
              "      <th>1</th>\n",
              "      <td>2015-12-28 01:00:01</td>\n",
              "      <td>0</td>\n",
              "      <td>634.0498</td>\n",
              "      <td>1</td>\n",
              "      <td>2</td>\n",
              "      <td>1</td>\n",
              "      <td>263.2979</td>\n",
              "      <td>8.364715</td>\n",
              "      <td>330.6844</td>\n",
              "      <td>2.450646</td>\n",
              "      <td>...</td>\n",
              "      <td>2</td>\n",
              "      <td>1</td>\n",
              "      <td>248.1415</td>\n",
              "      <td>1.746067</td>\n",
              "      <td>187.3238</td>\n",
              "      <td>0.000128</td>\n",
              "      <td>1</td>\n",
              "      <td>1</td>\n",
              "      <td>1</td>\n",
              "      <td>Normal</td>\n",
              "    </tr>\n",
              "    <tr>\n",
              "      <th>2</th>\n",
              "      <td>2015-12-28 01:00:02</td>\n",
              "      <td>0</td>\n",
              "      <td>633.6573</td>\n",
              "      <td>1</td>\n",
              "      <td>2</td>\n",
              "      <td>1</td>\n",
              "      <td>263.2979</td>\n",
              "      <td>8.364715</td>\n",
              "      <td>330.6844</td>\n",
              "      <td>2.450646</td>\n",
              "      <td>...</td>\n",
              "      <td>2</td>\n",
              "      <td>1</td>\n",
              "      <td>248.1415</td>\n",
              "      <td>1.746067</td>\n",
              "      <td>187.3238</td>\n",
              "      <td>0.000128</td>\n",
              "      <td>1</td>\n",
              "      <td>1</td>\n",
              "      <td>1</td>\n",
              "      <td>Normal</td>\n",
              "    </tr>\n",
              "    <tr>\n",
              "      <th>3</th>\n",
              "      <td>2015-12-28 01:00:03</td>\n",
              "      <td>0</td>\n",
              "      <td>633.5788</td>\n",
              "      <td>1</td>\n",
              "      <td>2</td>\n",
              "      <td>1</td>\n",
              "      <td>263.2979</td>\n",
              "      <td>8.364715</td>\n",
              "      <td>330.6844</td>\n",
              "      <td>2.450646</td>\n",
              "      <td>...</td>\n",
              "      <td>2</td>\n",
              "      <td>1</td>\n",
              "      <td>248.1415</td>\n",
              "      <td>1.746067</td>\n",
              "      <td>187.3238</td>\n",
              "      <td>0.000128</td>\n",
              "      <td>1</td>\n",
              "      <td>1</td>\n",
              "      <td>1</td>\n",
              "      <td>Normal</td>\n",
              "    </tr>\n",
              "    <tr>\n",
              "      <th>4</th>\n",
              "      <td>2015-12-28 01:00:04</td>\n",
              "      <td>0</td>\n",
              "      <td>633.1862</td>\n",
              "      <td>1</td>\n",
              "      <td>2</td>\n",
              "      <td>1</td>\n",
              "      <td>263.2979</td>\n",
              "      <td>8.364715</td>\n",
              "      <td>330.6844</td>\n",
              "      <td>2.449364</td>\n",
              "      <td>...</td>\n",
              "      <td>2</td>\n",
              "      <td>1</td>\n",
              "      <td>248.1415</td>\n",
              "      <td>1.746067</td>\n",
              "      <td>187.1635</td>\n",
              "      <td>0.000128</td>\n",
              "      <td>1</td>\n",
              "      <td>1</td>\n",
              "      <td>1</td>\n",
              "      <td>Normal</td>\n",
              "    </tr>\n",
              "  </tbody>\n",
              "</table>\n",
              "<p>5 rows × 53 columns</p>\n",
              "</div>\n",
              "      <button class=\"colab-df-convert\" onclick=\"convertToInteractive('df-9ef084a2-91b9-4ff6-aae6-5ca9545070cc')\"\n",
              "              title=\"Convert this dataframe to an interactive table.\"\n",
              "              style=\"display:none;\">\n",
              "        \n",
              "  <svg xmlns=\"http://www.w3.org/2000/svg\" height=\"24px\"viewBox=\"0 0 24 24\"\n",
              "       width=\"24px\">\n",
              "    <path d=\"M0 0h24v24H0V0z\" fill=\"none\"/>\n",
              "    <path d=\"M18.56 5.44l.94 2.06.94-2.06 2.06-.94-2.06-.94-.94-2.06-.94 2.06-2.06.94zm-11 1L8.5 8.5l.94-2.06 2.06-.94-2.06-.94L8.5 2.5l-.94 2.06-2.06.94zm10 10l.94 2.06.94-2.06 2.06-.94-2.06-.94-.94-2.06-.94 2.06-2.06.94z\"/><path d=\"M17.41 7.96l-1.37-1.37c-.4-.4-.92-.59-1.43-.59-.52 0-1.04.2-1.43.59L10.3 9.45l-7.72 7.72c-.78.78-.78 2.05 0 2.83L4 21.41c.39.39.9.59 1.41.59.51 0 1.02-.2 1.41-.59l7.78-7.78 2.81-2.81c.8-.78.8-2.07 0-2.86zM5.41 20L4 18.59l7.72-7.72 1.47 1.35L5.41 20z\"/>\n",
              "  </svg>\n",
              "      </button>\n",
              "      \n",
              "  <style>\n",
              "    .colab-df-container {\n",
              "      display:flex;\n",
              "      flex-wrap:wrap;\n",
              "      gap: 12px;\n",
              "    }\n",
              "\n",
              "    .colab-df-convert {\n",
              "      background-color: #E8F0FE;\n",
              "      border: none;\n",
              "      border-radius: 50%;\n",
              "      cursor: pointer;\n",
              "      display: none;\n",
              "      fill: #1967D2;\n",
              "      height: 32px;\n",
              "      padding: 0 0 0 0;\n",
              "      width: 32px;\n",
              "    }\n",
              "\n",
              "    .colab-df-convert:hover {\n",
              "      background-color: #E2EBFA;\n",
              "      box-shadow: 0px 1px 2px rgba(60, 64, 67, 0.3), 0px 1px 3px 1px rgba(60, 64, 67, 0.15);\n",
              "      fill: #174EA6;\n",
              "    }\n",
              "\n",
              "    [theme=dark] .colab-df-convert {\n",
              "      background-color: #3B4455;\n",
              "      fill: #D2E3FC;\n",
              "    }\n",
              "\n",
              "    [theme=dark] .colab-df-convert:hover {\n",
              "      background-color: #434B5C;\n",
              "      box-shadow: 0px 1px 3px 1px rgba(0, 0, 0, 0.15);\n",
              "      filter: drop-shadow(0px 1px 2px rgba(0, 0, 0, 0.3));\n",
              "      fill: #FFFFFF;\n",
              "    }\n",
              "  </style>\n",
              "\n",
              "      <script>\n",
              "        const buttonEl =\n",
              "          document.querySelector('#df-9ef084a2-91b9-4ff6-aae6-5ca9545070cc button.colab-df-convert');\n",
              "        buttonEl.style.display =\n",
              "          google.colab.kernel.accessAllowed ? 'block' : 'none';\n",
              "\n",
              "        async function convertToInteractive(key) {\n",
              "          const element = document.querySelector('#df-9ef084a2-91b9-4ff6-aae6-5ca9545070cc');\n",
              "          const dataTable =\n",
              "            await google.colab.kernel.invokeFunction('convertToInteractive',\n",
              "                                                     [key], {});\n",
              "          if (!dataTable) return;\n",
              "\n",
              "          const docLinkHtml = 'Like what you see? Visit the ' +\n",
              "            '<a target=\"_blank\" href=https://colab.research.google.com/notebooks/data_table.ipynb>data table notebook</a>'\n",
              "            + ' to learn more about interactive tables.';\n",
              "          element.innerHTML = '';\n",
              "          dataTable['output_type'] = 'display_data';\n",
              "          await google.colab.output.renderOutput(dataTable, element);\n",
              "          const docLink = document.createElement('div');\n",
              "          docLink.innerHTML = docLinkHtml;\n",
              "          element.appendChild(docLink);\n",
              "        }\n",
              "      </script>\n",
              "    </div>\n",
              "  </div>\n",
              "  "
            ]
          },
          "metadata": {},
          "execution_count": 14
        }
      ],
      "source": [
        "df = pd.DataFrame(data)\n",
        "df.head()"
      ]
    },
    {
      "cell_type": "code",
      "source": [
        "X = df.drop(52, axis=1) # etiketi y, geri kalan datamız\n",
        "y = df[52]\n",
        "X.shape, y.shape"
      ],
      "metadata": {
        "colab": {
          "base_uri": "https://localhost:8080/"
        },
        "id": "YCOR0ih04-C6",
        "outputId": "804b0ac3-e930-4c3e-dc7f-f2e15f17ba54"
      },
      "execution_count": null,
      "outputs": [
        {
          "output_type": "execute_result",
          "data": {
            "text/plain": [
              "((449919, 52), (449919,))"
            ]
          },
          "metadata": {},
          "execution_count": 15
        }
      ]
    },
    {
      "cell_type": "code",
      "source": [
        "type(X)"
      ],
      "metadata": {
        "colab": {
          "base_uri": "https://localhost:8080/"
        },
        "id": "3WPOXw1z6Vqa",
        "outputId": "512ad626-ddf6-4c33-e209-9db2f44a6167"
      },
      "execution_count": null,
      "outputs": [
        {
          "output_type": "execute_result",
          "data": {
            "text/plain": [
              "pandas.core.frame.DataFrame"
            ]
          },
          "metadata": {},
          "execution_count": 16
        }
      ]
    },
    {
      "cell_type": "code",
      "source": [
        "X = X.to_numpy()\n",
        "y = y.to_numpy()\n",
        "X.shape, y.shape"
      ],
      "metadata": {
        "colab": {
          "base_uri": "https://localhost:8080/"
        },
        "id": "U2kvG94M6jcn",
        "outputId": "3c01a3ab-bac4-46e4-fbf2-161b3d4be79e"
      },
      "execution_count": null,
      "outputs": [
        {
          "output_type": "execute_result",
          "data": {
            "text/plain": [
              "((449919, 52), (449919,))"
            ]
          },
          "metadata": {},
          "execution_count": 17
        }
      ]
    },
    {
      "cell_type": "code",
      "source": [
        "X = X[:,1:] # zamanı çıkarıyorum \n",
        "X.shape"
      ],
      "metadata": {
        "colab": {
          "base_uri": "https://localhost:8080/"
        },
        "id": "XJB-ca0u6xP3",
        "outputId": "e52c7bc9-f751-48be-f267-bcca9554388b"
      },
      "execution_count": null,
      "outputs": [
        {
          "output_type": "execute_result",
          "data": {
            "text/plain": [
              "(449919, 51)"
            ]
          },
          "metadata": {},
          "execution_count": 18
        }
      ]
    },
    {
      "cell_type": "code",
      "source": [
        "y"
      ],
      "metadata": {
        "colab": {
          "base_uri": "https://localhost:8080/"
        },
        "id": "UpyaUNoc9Cbj",
        "outputId": "11b21d46-c8d7-4c1b-ac29-c1d70765e4b6"
      },
      "execution_count": null,
      "outputs": [
        {
          "output_type": "execute_result",
          "data": {
            "text/plain": [
              "array(['Normal', 'Normal', 'Normal', ..., 'Normal', 'Normal', 'Normal'],\n",
              "      dtype=object)"
            ]
          },
          "metadata": {},
          "execution_count": 19
        }
      ]
    },
    {
      "cell_type": "code",
      "source": [
        "np.unique(y, return_counts=True)"
      ],
      "metadata": {
        "colab": {
          "base_uri": "https://localhost:8080/"
        },
        "id": "wlLLl-zU9Eb5",
        "outputId": "91f10db1-c146-494c-9226-cf015221b91f"
      },
      "execution_count": null,
      "outputs": [
        {
          "output_type": "execute_result",
          "data": {
            "text/plain": [
              "(array(['A ttack', 'Attack', 'Normal'], dtype=object),\n",
              " array([    37,  54584, 395298]))"
            ]
          },
          "metadata": {},
          "execution_count": 20
        }
      ]
    },
    {
      "cell_type": "code",
      "source": [
        "y = y == 'Normal'\n",
        "y = y.astype('uint8')"
      ],
      "metadata": {
        "id": "GrEzUH2-9lZj"
      },
      "execution_count": null,
      "outputs": []
    },
    {
      "cell_type": "code",
      "source": [
        "np.unique(y)"
      ],
      "metadata": {
        "colab": {
          "base_uri": "https://localhost:8080/"
        },
        "id": "oles1nC_9Lvp",
        "outputId": "d6f4cb40-0485-4333-dc6b-69a810576d5d"
      },
      "execution_count": null,
      "outputs": [
        {
          "output_type": "execute_result",
          "data": {
            "text/plain": [
              "array([0, 1], dtype=uint8)"
            ]
          },
          "metadata": {},
          "execution_count": 22
        }
      ]
    },
    {
      "cell_type": "code",
      "source": [
        "# X is data\n",
        "# y is label\n",
        "\n",
        "X.shape, y.shape"
      ],
      "metadata": {
        "colab": {
          "base_uri": "https://localhost:8080/"
        },
        "id": "JbbRHbqd5nfC",
        "outputId": "d92c644d-ef53-4795-8436-7a6e9c503828"
      },
      "execution_count": null,
      "outputs": [
        {
          "output_type": "execute_result",
          "data": {
            "text/plain": [
              "((449919, 51), (449919,))"
            ]
          },
          "metadata": {},
          "execution_count": 23
        }
      ]
    },
    {
      "cell_type": "code",
      "source": [
        "from sklearn.model_selection import train_test_split"
      ],
      "metadata": {
        "id": "iOHEw1ds71Q4"
      },
      "execution_count": null,
      "outputs": []
    },
    {
      "cell_type": "code",
      "source": [
        "X_train, X_test, y_train, y_test = train_test_split(X, y, test_size=0.2, random_state=42)"
      ],
      "metadata": {
        "id": "44-ofUDXVfjb"
      },
      "execution_count": null,
      "outputs": []
    },
    {
      "cell_type": "code",
      "source": [
        "X_train.shape, X_test.shape"
      ],
      "metadata": {
        "colab": {
          "base_uri": "https://localhost:8080/"
        },
        "id": "tlm-XEHIVjxi",
        "outputId": "86b4917a-10c4-40a6-de7f-0bfe146f1080"
      },
      "execution_count": null,
      "outputs": [
        {
          "output_type": "execute_result",
          "data": {
            "text/plain": [
              "((359935, 51), (89984, 51))"
            ]
          },
          "metadata": {},
          "execution_count": 67
        }
      ]
    },
    {
      "cell_type": "code",
      "source": [
        "#from sklearn.pipeline import make_pipeline\n",
        "#from sklearn.preprocessing import StandardScaler\n",
        "#from sklearn.svm import SVC\n",
        "#clf = make_pipeline(StandardScaler(), SVC(gamma='auto'))\n",
        "#clf.fit(X_train, y_train)"
      ],
      "metadata": {
        "id": "c2u9W3D2Vmdq"
      },
      "execution_count": null,
      "outputs": []
    },
    {
      "cell_type": "code",
      "source": [
        "from sklearn.preprocessing import StandardScaler"
      ],
      "metadata": {
        "id": "GyxB5UmDVzM6"
      },
      "execution_count": null,
      "outputs": []
    },
    {
      "cell_type": "code",
      "source": [
        "scaler = StandardScaler()  # for normalization\n",
        "X_train = scaler.fit_transform(X_train)\n",
        "X_test = scaler.transform(X_test)\n",
        "X_train.shape, X_test.shape"
      ],
      "metadata": {
        "colab": {
          "base_uri": "https://localhost:8080/"
        },
        "id": "pS_tR8ZnaxFk",
        "outputId": "f31bf645-42df-43e8-bec4-74d65d6babd7"
      },
      "execution_count": null,
      "outputs": [
        {
          "output_type": "execute_result",
          "data": {
            "text/plain": [
              "((359935, 51), (89984, 51))"
            ]
          },
          "metadata": {},
          "execution_count": 69
        }
      ]
    },
    {
      "cell_type": "markdown",
      "source": [
        "## GED"
      ],
      "metadata": {
        "id": "YZ9ZUoIrd59t"
      }
    },
    {
      "cell_type": "code",
      "source": [
        "import scipy.linalg"
      ],
      "metadata": {
        "id": "mcRSqo1Hevjx"
      },
      "execution_count": null,
      "outputs": []
    },
    {
      "cell_type": "code",
      "source": [
        "X0 = X_train[y_train==0]\n",
        "X1 = X_train[y_train==1]\n",
        "X0.shape, X1.shape"
      ],
      "metadata": {
        "colab": {
          "base_uri": "https://localhost:8080/"
        },
        "id": "4-l8bFtud7X2",
        "outputId": "0ba471e9-75f7-4a0c-82fc-9bed421322ab"
      },
      "execution_count": null,
      "outputs": [
        {
          "output_type": "execute_result",
          "data": {
            "text/plain": [
              "((43750, 51), (316185, 51))"
            ]
          },
          "metadata": {},
          "execution_count": 32
        }
      ]
    },
    {
      "cell_type": "code",
      "source": [
        "S = np.cov(X0.T.astype(int)) \n",
        "R = np.cov(X1.T.astype(int))"
      ],
      "metadata": {
        "id": "JnSthAO8eO__"
      },
      "execution_count": null,
      "outputs": []
    },
    {
      "cell_type": "code",
      "source": [
        "a = np.eye(51) * 0.0001\n",
        "S = S + a\n",
        "R = R + a"
      ],
      "metadata": {
        "id": "K9JcyRFxlNkU"
      },
      "execution_count": null,
      "outputs": []
    },
    {
      "cell_type": "code",
      "source": [
        "S.shape, R.shape"
      ],
      "metadata": {
        "colab": {
          "base_uri": "https://localhost:8080/"
        },
        "id": "ejNZlOIugr8q",
        "outputId": "125170ce-2a9c-4a82-b45c-42c916592d2c"
      },
      "execution_count": null,
      "outputs": [
        {
          "output_type": "execute_result",
          "data": {
            "text/plain": [
              "((51, 51), (51, 51))"
            ]
          },
          "metadata": {},
          "execution_count": 35
        }
      ]
    },
    {
      "cell_type": "code",
      "source": [
        "def is_pos_def(x):\n",
        "    return np.all(np.linalg.eigvals(x) > 0)\n",
        "\n",
        "is_pos_def(R), is_pos_def(S)"
      ],
      "metadata": {
        "colab": {
          "base_uri": "https://localhost:8080/"
        },
        "id": "mMw3iKbGkIwg",
        "outputId": "d0fd49b0-faad-4921-8f7a-34af8c4d6200"
      },
      "execution_count": null,
      "outputs": [
        {
          "output_type": "execute_result",
          "data": {
            "text/plain": [
              "(True, True)"
            ]
          },
          "metadata": {},
          "execution_count": 36
        }
      ]
    },
    {
      "cell_type": "code",
      "source": [],
      "metadata": {
        "id": "dLO2mUSeXn-6"
      },
      "execution_count": null,
      "outputs": []
    },
    {
      "cell_type": "code",
      "source": [
        "\n",
        "D,evecsGED = scipy.linalg.eigh(S,R, subset_by_index=[46, 50])\n",
        "evecsGED /= np.sqrt(np.sum(evecsGED**2,axis=0))\n",
        "\n",
        "comps_train = evecsGED.T@X_train.T\n",
        "comps_test = evecsGED.T@X_test.T\n",
        "\n",
        "comps_train.shape, comps_test.shape"
      ],
      "metadata": {
        "id": "gprgju2Leee-",
        "colab": {
          "base_uri": "https://localhost:8080/"
        },
        "outputId": "cce040f4-5776-429e-8fe9-cd6932d777c9"
      },
      "execution_count": null,
      "outputs": [
        {
          "output_type": "execute_result",
          "data": {
            "text/plain": [
              "((5, 359935), (5, 89984))"
            ]
          },
          "metadata": {},
          "execution_count": 63
        }
      ]
    },
    {
      "cell_type": "code",
      "source": [
        "D"
      ],
      "metadata": {
        "colab": {
          "base_uri": "https://localhost:8080/"
        },
        "id": "aNheA_5RmJGK",
        "outputId": "0a27a083-3f1e-46e9-e838-8d1b71a0a8b4"
      },
      "execution_count": null,
      "outputs": [
        {
          "output_type": "execute_result",
          "data": {
            "text/plain": [
              "array([   194.64777011,    387.47618725,    891.26590292,   1971.23060848,\n",
              "       161844.20416419])"
            ]
          },
          "metadata": {},
          "execution_count": 64
        }
      ]
    },
    {
      "cell_type": "code",
      "source": [
        "comps_train = comps_train.T\n",
        "comps_test = comps_test.T\n",
        "comps_train.shape, comps_test.shape"
      ],
      "metadata": {
        "colab": {
          "base_uri": "https://localhost:8080/"
        },
        "id": "iUgNhk7hlkcF",
        "outputId": "271dc982-17d4-4ac1-e638-641b91310977"
      },
      "execution_count": null,
      "outputs": [
        {
          "output_type": "execute_result",
          "data": {
            "text/plain": [
              "((359935, 5), (89984, 5))"
            ]
          },
          "metadata": {},
          "execution_count": 65
        }
      ]
    },
    {
      "cell_type": "code",
      "source": [
        "X_train = np.array(comps_train, dtype=np.float)\n",
        "X_test = np.array(comps_test, dtype=np.float)\n",
        "\n",
        "X_train.shape, X_test.shape"
      ],
      "metadata": {
        "id": "oQ01O-IXm-QT",
        "colab": {
          "base_uri": "https://localhost:8080/"
        },
        "outputId": "e07d6a9f-6d98-4a6c-8c05-d5e9d294f99c"
      },
      "execution_count": null,
      "outputs": [
        {
          "output_type": "stream",
          "name": "stderr",
          "text": [
            "<ipython-input-40-3435970db1f5>:1: DeprecationWarning: `np.float` is a deprecated alias for the builtin `float`. To silence this warning, use `float` by itself. Doing this will not modify any behavior and is safe. If you specifically wanted the numpy scalar type, use `np.float64` here.\n",
            "Deprecated in NumPy 1.20; for more details and guidance: https://numpy.org/devdocs/release/1.20.0-notes.html#deprecations\n",
            "  X_train = np.array(comps_train, dtype=np.float)\n",
            "<ipython-input-40-3435970db1f5>:2: DeprecationWarning: `np.float` is a deprecated alias for the builtin `float`. To silence this warning, use `float` by itself. Doing this will not modify any behavior and is safe. If you specifically wanted the numpy scalar type, use `np.float64` here.\n",
            "Deprecated in NumPy 1.20; for more details and guidance: https://numpy.org/devdocs/release/1.20.0-notes.html#deprecations\n",
            "  X_test = np.array(comps_test, dtype=np.float)\n"
          ]
        },
        {
          "output_type": "execute_result",
          "data": {
            "text/plain": [
              "((359935, 5), (89984, 5))"
            ]
          },
          "metadata": {},
          "execution_count": 40
        }
      ]
    },
    {
      "cell_type": "code",
      "source": [
        "y_train.shape, y_test.shape"
      ],
      "metadata": {
        "colab": {
          "base_uri": "https://localhost:8080/"
        },
        "id": "El0d5HYkWqLi",
        "outputId": "5a88974c-25a8-4ab1-c5b1-1747defa54b0"
      },
      "execution_count": null,
      "outputs": [
        {
          "output_type": "execute_result",
          "data": {
            "text/plain": [
              "((359935,), (89984,))"
            ]
          },
          "metadata": {},
          "execution_count": 41
        }
      ]
    },
    {
      "cell_type": "code",
      "source": [
        "X_train"
      ],
      "metadata": {
        "colab": {
          "base_uri": "https://localhost:8080/"
        },
        "id": "IMNBgFrqWqJA",
        "outputId": "7c52afa0-3272-4f83-b86d-c44162ff4b51"
      },
      "execution_count": null,
      "outputs": [
        {
          "output_type": "execute_result",
          "data": {
            "text/plain": [
              "array([[-3.75845969e-02, -1.48032393e-02,  2.98698571e-04,\n",
              "         2.60154346e-01,  1.54982915e-02],\n",
              "       [-8.28792333e-01,  4.52935492e-01, -3.02796276e-03,\n",
              "        -3.10027763e+00,  2.01786858e-02],\n",
              "       [ 1.13335733e-01,  6.00334174e-04,  4.49140077e-04,\n",
              "         2.67721508e-01,  1.55423753e-02],\n",
              "       ...,\n",
              "       [ 8.94141296e-02,  2.73925721e-02,  3.96128932e-04,\n",
              "         2.78929349e-01,  1.55356258e-02],\n",
              "       [ 7.32066622e-02, -4.84989372e-03,  3.46992873e-04,\n",
              "         2.39349815e-01,  1.55763122e-02],\n",
              "       [ 2.21147264e+00, -2.69972246e-01, -6.97673662e-05,\n",
              "        -3.40744858e-01,  1.65561323e-02]])"
            ]
          },
          "metadata": {},
          "execution_count": 42
        }
      ]
    },
    {
      "cell_type": "code",
      "source": [
        "scaler = StandardScaler()  # for normalization\n",
        "X_train = scaler.fit_transform(X_train)\n",
        "X_test = scaler.transform(X_test)\n",
        "X_train.shape, X_test.shape"
      ],
      "metadata": {
        "colab": {
          "base_uri": "https://localhost:8080/"
        },
        "id": "1lKaIwakm5TE",
        "outputId": "472e8f62-96b3-41d4-f00f-28b6cd11c567"
      },
      "execution_count": null,
      "outputs": [
        {
          "output_type": "execute_result",
          "data": {
            "text/plain": [
              "((359935, 5), (89984, 5))"
            ]
          },
          "metadata": {},
          "execution_count": 43
        }
      ]
    },
    {
      "cell_type": "code",
      "source": [],
      "metadata": {
        "id": "IGQfF_OBm5M-"
      },
      "execution_count": null,
      "outputs": []
    },
    {
      "cell_type": "markdown",
      "source": [
        "## PCA"
      ],
      "metadata": {
        "id": "7rgS0h8G25RR"
      }
    },
    {
      "cell_type": "code",
      "source": [
        "X.shape, y.shape"
      ],
      "metadata": {
        "colab": {
          "base_uri": "https://localhost:8080/"
        },
        "id": "HsQfWj6r2-tg",
        "outputId": "d392c197-7a68-44a1-a5ee-3b96183782dc"
      },
      "execution_count": null,
      "outputs": [
        {
          "output_type": "execute_result",
          "data": {
            "text/plain": [
              "((449919, 51), (449919,))"
            ]
          },
          "metadata": {},
          "execution_count": 116
        }
      ]
    },
    {
      "cell_type": "code",
      "source": [
        "from sklearn.decomposition import PCA"
      ],
      "metadata": {
        "id": "I7ACyn8K2UFY"
      },
      "execution_count": null,
      "outputs": []
    },
    {
      "cell_type": "code",
      "source": [
        "pca = PCA(n_components=5)\n",
        "X_reduced_train = pca.fit_transform(X_train)\n",
        "X_reduced_test = pca.fit_transform(X_test)\n",
        "X_reduced_train.shape, X_reduced_test.shape"
      ],
      "metadata": {
        "colab": {
          "base_uri": "https://localhost:8080/"
        },
        "id": "XoAiz5hs2UCq",
        "outputId": "40aa8368-063c-49cb-98d2-447eb3518c3d"
      },
      "execution_count": null,
      "outputs": [
        {
          "output_type": "execute_result",
          "data": {
            "text/plain": [
              "((359935, 5), (89984, 5))"
            ]
          },
          "metadata": {},
          "execution_count": 77
        }
      ]
    },
    {
      "cell_type": "code",
      "source": [],
      "metadata": {
        "id": "sN21uIcjwp51"
      },
      "execution_count": null,
      "outputs": []
    },
    {
      "cell_type": "code",
      "source": [
        "pca.explained_variance_ratio_"
      ],
      "metadata": {
        "colab": {
          "base_uri": "https://localhost:8080/"
        },
        "id": "hCzyXjlH3Tyh",
        "outputId": "60988a21-c322-4f01-fc59-0856cb2b7801"
      },
      "execution_count": null,
      "outputs": [
        {
          "output_type": "execute_result",
          "data": {
            "text/plain": [
              "array([0.41391697, 0.11179632, 0.07481595, 0.06229041, 0.05281187])"
            ]
          },
          "metadata": {},
          "execution_count": 78
        }
      ]
    },
    {
      "cell_type": "code",
      "source": [
        "np.sum(pca.explained_variance_ratio_)"
      ],
      "metadata": {
        "colab": {
          "base_uri": "https://localhost:8080/"
        },
        "id": "OXTJ-uKj3Tv-",
        "outputId": "5e11acac-ce4e-4e43-b7dc-7f7ec9390509"
      },
      "execution_count": null,
      "outputs": [
        {
          "output_type": "execute_result",
          "data": {
            "text/plain": [
              "0.7156315239437787"
            ]
          },
          "metadata": {},
          "execution_count": 79
        }
      ]
    },
    {
      "cell_type": "code",
      "source": [
        "#X_train, X_test, y_train, y_test = train_test_split(X_reduced, y, test_size=0.2, random_state=42)\n",
        "#X_train.shape, X_test.shape, y_train.shape, y_test.shape"
      ],
      "metadata": {
        "id": "th5RRr6x30ut"
      },
      "execution_count": null,
      "outputs": []
    },
    {
      "cell_type": "code",
      "source": [
        "X_train = X_reduced_train\n",
        "X_test = X_reduced_test\n",
        "X_train.shape, X_test.shape"
      ],
      "metadata": {
        "colab": {
          "base_uri": "https://localhost:8080/"
        },
        "id": "ApBFf4GqxyzJ",
        "outputId": "e5ddc3e3-1703-47ef-9752-b4eb800f3c2d"
      },
      "execution_count": null,
      "outputs": [
        {
          "output_type": "execute_result",
          "data": {
            "text/plain": [
              "((359935, 2), (89984, 2))"
            ]
          },
          "metadata": {},
          "execution_count": 122
        }
      ]
    },
    {
      "cell_type": "code",
      "source": [
        "scaler = StandardScaler()  # for normalization\n",
        "X_train = scaler.fit_transform(X_train)\n",
        "X_test = scaler.transform(X_test)\n",
        "X_train.shape, X_test.shape"
      ],
      "metadata": {
        "colab": {
          "base_uri": "https://localhost:8080/"
        },
        "id": "O8WxY3rN30rX",
        "outputId": "a4d2d22a-3d3f-4d41-f72a-6ece83db5afa"
      },
      "execution_count": null,
      "outputs": [
        {
          "output_type": "execute_result",
          "data": {
            "text/plain": [
              "((359935, 2), (89984, 2))"
            ]
          },
          "metadata": {},
          "execution_count": 123
        }
      ]
    },
    {
      "cell_type": "code",
      "source": [],
      "metadata": {
        "id": "OjV7hHaM3Ttd"
      },
      "execution_count": null,
      "outputs": []
    },
    {
      "cell_type": "markdown",
      "source": [
        "## AutoEncoder"
      ],
      "metadata": {
        "id": "61J0GcqX2L4K"
      }
    },
    {
      "cell_type": "code",
      "source": [
        "X.shape, X_train.shape, X_test.shape"
      ],
      "metadata": {
        "colab": {
          "base_uri": "https://localhost:8080/"
        },
        "id": "M89d4NDq2M9m",
        "outputId": "2fc76f16-4a10-445f-9b7b-a2b9d0cf1952"
      },
      "execution_count": null,
      "outputs": [
        {
          "output_type": "execute_result",
          "data": {
            "text/plain": [
              "((449919, 51), (359935, 51), (89984, 51))"
            ]
          },
          "metadata": {},
          "execution_count": 209
        }
      ]
    },
    {
      "cell_type": "code",
      "source": [
        "input = Input(shape=(51,))\n",
        "x = Dense(26, activation='relu')(input)\n",
        "print(x.shape)\n",
        "x = Dense(13, activation='relu')(x)\n",
        "print(x.shape)\n",
        "code = Dense(5, activation='relu', name='code')(x)\n",
        "print(code.shape)\n",
        "x = Dense(13, activation='relu')(code)\n",
        "print(x.shape)\n",
        "x = Dense(26, activation='relu')(x)\n",
        "print(x.shape)\n",
        "x = Dense(51)(x)\n",
        "print(x.shape)"
      ],
      "metadata": {
        "colab": {
          "base_uri": "https://localhost:8080/"
        },
        "id": "XsAJNp242M64",
        "outputId": "1275f292-6bf1-49b2-9e66-b8dfefb52b81"
      },
      "execution_count": null,
      "outputs": [
        {
          "output_type": "stream",
          "name": "stdout",
          "text": [
            "(None, 26)\n",
            "(None, 13)\n",
            "(None, 5)\n",
            "(None, 13)\n",
            "(None, 26)\n",
            "(None, 51)\n"
          ]
        }
      ]
    },
    {
      "cell_type": "code",
      "source": [
        "model_ae = Model(inputs=input, outputs=x)\n",
        "model_ae.compile(optimizer='adam', loss='mse')"
      ],
      "metadata": {
        "id": "wjPiVg4D2M4Q"
      },
      "execution_count": null,
      "outputs": []
    },
    {
      "cell_type": "code",
      "source": [
        "model_ae.fit(X_train, X_train,\n",
        "                epochs=100,\n",
        "                batch_size=32,\n",
        "                validation_data=(X_test, X_test))"
      ],
      "metadata": {
        "colab": {
          "base_uri": "https://localhost:8080/"
        },
        "id": "U_ueZzSt2su7",
        "outputId": "899078b5-f3fc-4003-ddb0-1e6ff55479f9"
      },
      "execution_count": null,
      "outputs": [
        {
          "output_type": "stream",
          "name": "stdout",
          "text": [
            "Epoch 1/100\n",
            "11248/11248 [==============================] - 33s 3ms/step - loss: 0.1498 - val_loss: 0.0829\n",
            "Epoch 2/100\n",
            "11248/11248 [==============================] - 33s 3ms/step - loss: 0.0786 - val_loss: 0.0762\n",
            "Epoch 3/100\n",
            "11248/11248 [==============================] - 33s 3ms/step - loss: 0.0679 - val_loss: 0.0635\n",
            "Epoch 4/100\n",
            "11248/11248 [==============================] - 34s 3ms/step - loss: 0.0605 - val_loss: 0.0557\n",
            "Epoch 5/100\n",
            "11248/11248 [==============================] - 34s 3ms/step - loss: 0.0557 - val_loss: 0.0560\n",
            "Epoch 6/100\n",
            "11248/11248 [==============================] - 34s 3ms/step - loss: 0.0530 - val_loss: 0.0477\n",
            "Epoch 7/100\n",
            "11248/11248 [==============================] - 33s 3ms/step - loss: 0.0515 - val_loss: 0.0485\n",
            "Epoch 8/100\n",
            "11248/11248 [==============================] - 34s 3ms/step - loss: 0.0496 - val_loss: 0.0461\n",
            "Epoch 9/100\n",
            "11248/11248 [==============================] - 35s 3ms/step - loss: 0.0491 - val_loss: 0.0467\n",
            "Epoch 10/100\n",
            "11248/11248 [==============================] - 33s 3ms/step - loss: 0.0476 - val_loss: 0.0490\n",
            "Epoch 11/100\n",
            "11248/11248 [==============================] - 33s 3ms/step - loss: 0.0471 - val_loss: 0.0454\n",
            "Epoch 12/100\n",
            "11248/11248 [==============================] - 34s 3ms/step - loss: 0.0462 - val_loss: 0.0456\n",
            "Epoch 13/100\n",
            "11248/11248 [==============================] - 34s 3ms/step - loss: 0.0456 - val_loss: 0.0436\n",
            "Epoch 14/100\n",
            "11248/11248 [==============================] - 35s 3ms/step - loss: 0.0455 - val_loss: 0.0437\n",
            "Epoch 15/100\n",
            "11248/11248 [==============================] - 33s 3ms/step - loss: 0.0446 - val_loss: 0.0418\n",
            "Epoch 16/100\n",
            "11248/11248 [==============================] - 32s 3ms/step - loss: 0.0446 - val_loss: 0.0442\n",
            "Epoch 17/100\n",
            "11248/11248 [==============================] - 34s 3ms/step - loss: 0.0438 - val_loss: 0.0432\n",
            "Epoch 18/100\n",
            "11248/11248 [==============================] - 34s 3ms/step - loss: 0.0439 - val_loss: 0.0417\n",
            "Epoch 19/100\n",
            "11248/11248 [==============================] - 34s 3ms/step - loss: 0.0439 - val_loss: 0.0454\n",
            "Epoch 20/100\n",
            "11248/11248 [==============================] - 32s 3ms/step - loss: 0.0432 - val_loss: 0.0437\n",
            "Epoch 21/100\n",
            "11248/11248 [==============================] - 34s 3ms/step - loss: 0.0430 - val_loss: 0.0439\n",
            "Epoch 22/100\n",
            "11248/11248 [==============================] - 34s 3ms/step - loss: 0.0429 - val_loss: 0.0465\n",
            "Epoch 23/100\n",
            "11248/11248 [==============================] - 35s 3ms/step - loss: 0.0426 - val_loss: 0.0404\n",
            "Epoch 24/100\n",
            "11248/11248 [==============================] - 33s 3ms/step - loss: 0.0424 - val_loss: 0.0402\n",
            "Epoch 25/100\n",
            "11248/11248 [==============================] - 35s 3ms/step - loss: 0.0420 - val_loss: 0.0401\n",
            "Epoch 26/100\n",
            "11248/11248 [==============================] - 32s 3ms/step - loss: 0.0419 - val_loss: 0.0413\n",
            "Epoch 27/100\n",
            "11248/11248 [==============================] - 33s 3ms/step - loss: 0.0417 - val_loss: 0.0444\n",
            "Epoch 28/100\n",
            "11248/11248 [==============================] - 35s 3ms/step - loss: 0.0412 - val_loss: 0.0409\n",
            "Epoch 29/100\n",
            "11248/11248 [==============================] - 34s 3ms/step - loss: 0.0416 - val_loss: 0.0406\n",
            "Epoch 30/100\n",
            "11248/11248 [==============================] - 34s 3ms/step - loss: 0.0410 - val_loss: 0.0416\n",
            "Epoch 31/100\n",
            "11248/11248 [==============================] - 34s 3ms/step - loss: 0.0411 - val_loss: 0.0395\n",
            "Epoch 32/100\n",
            "11248/11248 [==============================] - 32s 3ms/step - loss: 0.0410 - val_loss: 0.0416\n",
            "Epoch 33/100\n",
            "11248/11248 [==============================] - 34s 3ms/step - loss: 0.0406 - val_loss: 0.0449\n",
            "Epoch 34/100\n",
            "11248/11248 [==============================] - 32s 3ms/step - loss: 0.0405 - val_loss: 0.0397\n",
            "Epoch 35/100\n",
            "11248/11248 [==============================] - 33s 3ms/step - loss: 0.0405 - val_loss: 0.0416\n",
            "Epoch 36/100\n",
            "11248/11248 [==============================] - 32s 3ms/step - loss: 0.0404 - val_loss: 0.0399\n",
            "Epoch 37/100\n",
            "11248/11248 [==============================] - 33s 3ms/step - loss: 0.0403 - val_loss: 0.0447\n",
            "Epoch 38/100\n",
            "11248/11248 [==============================] - 33s 3ms/step - loss: 0.0404 - val_loss: 0.0418\n",
            "Epoch 39/100\n",
            "11248/11248 [==============================] - 34s 3ms/step - loss: 0.0402 - val_loss: 0.0385\n",
            "Epoch 40/100\n",
            "11248/11248 [==============================] - 33s 3ms/step - loss: 0.0400 - val_loss: 0.0384\n",
            "Epoch 41/100\n",
            "11248/11248 [==============================] - 32s 3ms/step - loss: 0.0400 - val_loss: 0.0387\n",
            "Epoch 42/100\n",
            "11248/11248 [==============================] - 33s 3ms/step - loss: 0.0401 - val_loss: 0.0390\n",
            "Epoch 43/100\n",
            "11248/11248 [==============================] - 32s 3ms/step - loss: 0.0401 - val_loss: 0.0390\n",
            "Epoch 44/100\n",
            "11248/11248 [==============================] - 33s 3ms/step - loss: 0.0398 - val_loss: 0.0395\n",
            "Epoch 45/100\n",
            "11248/11248 [==============================] - 34s 3ms/step - loss: 0.0398 - val_loss: 0.0382\n",
            "Epoch 46/100\n",
            "11248/11248 [==============================] - 34s 3ms/step - loss: 0.0396 - val_loss: 0.0398\n",
            "Epoch 47/100\n",
            "11248/11248 [==============================] - 32s 3ms/step - loss: 0.0396 - val_loss: 0.0400\n",
            "Epoch 48/100\n",
            "11248/11248 [==============================] - 34s 3ms/step - loss: 0.0398 - val_loss: 0.0398\n",
            "Epoch 49/100\n",
            "11248/11248 [==============================] - 33s 3ms/step - loss: 0.0398 - val_loss: 0.0383\n",
            "Epoch 50/100\n",
            "11248/11248 [==============================] - 35s 3ms/step - loss: 0.0395 - val_loss: 0.0381\n",
            "Epoch 51/100\n",
            "11248/11248 [==============================] - 34s 3ms/step - loss: 0.0395 - val_loss: 0.0376\n",
            "Epoch 52/100\n",
            "11248/11248 [==============================] - 32s 3ms/step - loss: 0.0394 - val_loss: 0.0380\n",
            "Epoch 53/100\n",
            "11248/11248 [==============================] - 32s 3ms/step - loss: 0.0394 - val_loss: 0.0420\n",
            "Epoch 54/100\n",
            "11248/11248 [==============================] - 33s 3ms/step - loss: 0.0393 - val_loss: 0.0380\n",
            "Epoch 55/100\n",
            "11248/11248 [==============================] - 34s 3ms/step - loss: 0.0394 - val_loss: 0.0428\n",
            "Epoch 56/100\n",
            "11248/11248 [==============================] - 32s 3ms/step - loss: 0.0394 - val_loss: 0.0367\n",
            "Epoch 57/100\n",
            "11248/11248 [==============================] - 34s 3ms/step - loss: 0.0392 - val_loss: 0.0382\n",
            "Epoch 58/100\n",
            "11248/11248 [==============================] - 33s 3ms/step - loss: 0.0392 - val_loss: 0.0399\n",
            "Epoch 59/100\n",
            "11248/11248 [==============================] - 35s 3ms/step - loss: 0.0389 - val_loss: 0.0393\n",
            "Epoch 60/100\n",
            "11248/11248 [==============================] - 33s 3ms/step - loss: 0.0392 - val_loss: 0.0383\n",
            "Epoch 61/100\n",
            "11248/11248 [==============================] - 32s 3ms/step - loss: 0.0389 - val_loss: 0.0388\n",
            "Epoch 62/100\n",
            "11248/11248 [==============================] - 32s 3ms/step - loss: 0.0389 - val_loss: 0.0386\n",
            "Epoch 63/100\n",
            "11248/11248 [==============================] - 32s 3ms/step - loss: 0.0389 - val_loss: 0.0372\n",
            "Epoch 64/100\n",
            "11248/11248 [==============================] - 33s 3ms/step - loss: 0.0389 - val_loss: 0.0381\n",
            "Epoch 65/100\n",
            "11248/11248 [==============================] - 34s 3ms/step - loss: 0.0388 - val_loss: 0.0380\n",
            "Epoch 66/100\n",
            "11248/11248 [==============================] - 33s 3ms/step - loss: 0.0390 - val_loss: 0.0403\n",
            "Epoch 67/100\n",
            "11248/11248 [==============================] - 32s 3ms/step - loss: 0.0387 - val_loss: 0.0364\n",
            "Epoch 68/100\n",
            "11248/11248 [==============================] - 32s 3ms/step - loss: 0.0386 - val_loss: 0.0374\n",
            "Epoch 69/100\n",
            "11248/11248 [==============================] - 33s 3ms/step - loss: 0.0388 - val_loss: 0.0371\n",
            "Epoch 70/100\n",
            "11248/11248 [==============================] - 32s 3ms/step - loss: 0.0387 - val_loss: 0.0371\n",
            "Epoch 71/100\n",
            "11248/11248 [==============================] - 33s 3ms/step - loss: 0.0387 - val_loss: 0.0378\n",
            "Epoch 72/100\n",
            "11248/11248 [==============================] - 33s 3ms/step - loss: 0.0386 - val_loss: 0.0372\n",
            "Epoch 73/100\n",
            "11248/11248 [==============================] - 32s 3ms/step - loss: 0.0385 - val_loss: 0.0377\n",
            "Epoch 74/100\n",
            "11248/11248 [==============================] - 33s 3ms/step - loss: 0.0388 - val_loss: 0.0366\n",
            "Epoch 75/100\n",
            "11248/11248 [==============================] - 34s 3ms/step - loss: 0.0385 - val_loss: 0.0400\n",
            "Epoch 76/100\n",
            "11248/11248 [==============================] - 33s 3ms/step - loss: 0.0386 - val_loss: 0.0394\n",
            "Epoch 77/100\n",
            "11248/11248 [==============================] - 32s 3ms/step - loss: 0.0386 - val_loss: 0.0492\n",
            "Epoch 78/100\n",
            "11248/11248 [==============================] - 32s 3ms/step - loss: 0.0384 - val_loss: 0.0398\n",
            "Epoch 79/100\n",
            "11248/11248 [==============================] - 34s 3ms/step - loss: 0.0386 - val_loss: 0.0422\n",
            "Epoch 80/100\n",
            "11248/11248 [==============================] - 35s 3ms/step - loss: 0.0386 - val_loss: 0.0410\n",
            "Epoch 81/100\n",
            "11248/11248 [==============================] - 33s 3ms/step - loss: 0.0386 - val_loss: 0.0366\n",
            "Epoch 82/100\n",
            "11248/11248 [==============================] - 34s 3ms/step - loss: 0.0383 - val_loss: 0.0385\n",
            "Epoch 83/100\n",
            "11248/11248 [==============================] - 33s 3ms/step - loss: 0.0385 - val_loss: 0.0414\n",
            "Epoch 84/100\n",
            "11248/11248 [==============================] - 34s 3ms/step - loss: 0.0383 - val_loss: 0.0385\n",
            "Epoch 85/100\n",
            "11248/11248 [==============================] - 35s 3ms/step - loss: 0.0384 - val_loss: 0.0395\n",
            "Epoch 86/100\n",
            "11248/11248 [==============================] - 35s 3ms/step - loss: 0.0384 - val_loss: 0.0365\n",
            "Epoch 87/100\n",
            "11248/11248 [==============================] - 32s 3ms/step - loss: 0.0380 - val_loss: 0.0397\n",
            "Epoch 88/100\n",
            "11248/11248 [==============================] - 34s 3ms/step - loss: 0.0383 - val_loss: 0.0368\n",
            "Epoch 89/100\n",
            "11248/11248 [==============================] - 33s 3ms/step - loss: 0.0382 - val_loss: 0.0365\n",
            "Epoch 90/100\n",
            "11248/11248 [==============================] - 33s 3ms/step - loss: 0.0379 - val_loss: 0.0368\n",
            "Epoch 91/100\n",
            "11248/11248 [==============================] - 33s 3ms/step - loss: 0.0381 - val_loss: 0.0361\n",
            "Epoch 92/100\n",
            "11248/11248 [==============================] - 32s 3ms/step - loss: 0.0379 - val_loss: 0.0374\n",
            "Epoch 93/100\n",
            "11248/11248 [==============================] - 34s 3ms/step - loss: 0.0383 - val_loss: 0.0375\n",
            "Epoch 94/100\n",
            "11248/11248 [==============================] - 32s 3ms/step - loss: 0.0379 - val_loss: 0.0367\n",
            "Epoch 95/100\n",
            "11248/11248 [==============================] - 35s 3ms/step - loss: 0.0379 - val_loss: 0.0376\n",
            "Epoch 96/100\n",
            "11248/11248 [==============================] - 35s 3ms/step - loss: 0.0380 - val_loss: 0.0365\n",
            "Epoch 97/100\n",
            "11248/11248 [==============================] - 32s 3ms/step - loss: 0.0378 - val_loss: 0.0432\n",
            "Epoch 98/100\n",
            "11248/11248 [==============================] - 32s 3ms/step - loss: 0.0380 - val_loss: 0.0382\n",
            "Epoch 99/100\n",
            "11248/11248 [==============================] - 32s 3ms/step - loss: 0.0379 - val_loss: 0.0362\n",
            "Epoch 100/100\n",
            "11248/11248 [==============================] - 35s 3ms/step - loss: 0.0380 - val_loss: 0.0373\n"
          ]
        },
        {
          "output_type": "execute_result",
          "data": {
            "text/plain": [
              "<keras.callbacks.History at 0x7f5a3f24c880>"
            ]
          },
          "metadata": {},
          "execution_count": 212
        }
      ]
    },
    {
      "cell_type": "code",
      "source": [
        "encoder = Model(inputs=model_ae.input, outputs=model_ae.get_layer('code').output)"
      ],
      "metadata": {
        "id": "13CADhXZ2ssL"
      },
      "execution_count": null,
      "outputs": []
    },
    {
      "cell_type": "code",
      "source": [
        "X_train = encoder.predict(X_train)\n",
        "X_test = encoder.predict(X_test)\n",
        "X_train.shape, X_test.shape"
      ],
      "metadata": {
        "colab": {
          "base_uri": "https://localhost:8080/"
        },
        "id": "yxK0wp4z2spl",
        "outputId": "577234e6-337e-48a4-f170-fd3c1805db1a"
      },
      "execution_count": null,
      "outputs": [
        {
          "output_type": "stream",
          "name": "stdout",
          "text": [
            "11248/11248 [==============================] - 13s 1ms/step\n",
            "2812/2812 [==============================] - 3s 1ms/step\n"
          ]
        },
        {
          "output_type": "execute_result",
          "data": {
            "text/plain": [
              "((359935, 5), (89984, 5))"
            ]
          },
          "metadata": {},
          "execution_count": 214
        }
      ]
    },
    {
      "cell_type": "code",
      "source": [
        "scaler = StandardScaler()  # for normalization\n",
        "X_train = scaler.fit_transform(X_train)\n",
        "X_test = scaler.transform(X_test)\n",
        "X_train.shape, X_test.shape"
      ],
      "metadata": {
        "colab": {
          "base_uri": "https://localhost:8080/"
        },
        "id": "v4auFLqn-B42",
        "outputId": "b75cf51e-7bbb-433b-bd2d-291ba7dabad1"
      },
      "execution_count": null,
      "outputs": [
        {
          "output_type": "execute_result",
          "data": {
            "text/plain": [
              "((359935, 5), (89984, 5))"
            ]
          },
          "metadata": {},
          "execution_count": 215
        }
      ]
    },
    {
      "cell_type": "code",
      "source": [],
      "metadata": {
        "id": "-kYDCcj9-B1-"
      },
      "execution_count": null,
      "outputs": []
    },
    {
      "cell_type": "code",
      "source": [],
      "metadata": {
        "id": "Fwyqy6XZ-By1"
      },
      "execution_count": null,
      "outputs": []
    },
    {
      "cell_type": "markdown",
      "source": [
        "## Model"
      ],
      "metadata": {
        "id": "Iq6Gt_Z1d3X_"
      }
    },
    {
      "cell_type": "code",
      "source": [
        "import tensorflow as tf\n",
        "from tensorflow.keras.layers import Input,Dense,concatenate,Flatten,GRU,Conv1D,Softmax, AveragePooling1D, MaxPool1D, Dropout, BatchNormalization, ReLU, Conv2D, MaxPool2D\n",
        "from tensorflow.keras.models import Model\n",
        "from tensorflow.keras import regularizers"
      ],
      "metadata": {
        "id": "ys5ssudZbWZz"
      },
      "execution_count": null,
      "outputs": []
    },
    {
      "cell_type": "code",
      "source": [
        "X_train = X_train.reshape(359935, 5, 1) # CNN için dönüşüm gerekli  X_train = X_train.reshape(359935, 5,8, 1) (samplesize,featuresize-dimesion1,varsa-dimension2,kanal)\n",
        "X_test = X_test.reshape(89984, 5, 1)"
      ],
      "metadata": {
        "id": "CsnMBzf_c6sc"
      },
      "execution_count": null,
      "outputs": []
    },
    {
      "cell_type": "code",
      "source": [
        "def block(input):\n",
        "  tf.random.set_seed(42)\n",
        "  conv11 = Conv1D(filters=16,kernel_size=5,padding='same')(input)\n",
        "  conv22 = Conv1D(filters=16,kernel_size=5,padding='same')(input)\n",
        "  conv33 = Conv1D(filters=16,kernel_size=5,padding='same')(input)  # kernel size dikkat\n",
        "  #conv44 = Conv1D(filters=16,kernel_size=13,padding='same')(input)\n",
        "  x = concatenate([conv11, conv22, conv33], axis=2)\n",
        "\n",
        "  x = MaxPool1D(padding='same')(x) # padding same kaldır \n",
        "  x = BatchNormalization()(x)\n",
        "  x = ReLU()(x)\n",
        "  return x\n",
        "\n",
        "tf.random.set_seed(42)\n",
        "input = Input(shape=(5, 1))\n",
        "\n",
        "conv1 = block(input)\n",
        "conv2 = block(conv1)\n",
        "conv3 = block(conv2)\n",
        "conv4 = block(conv3)\n",
        "\n",
        "\n",
        "gru1 = GRU(units=32, return_sequences=True)(conv4)\n",
        "gru2 = GRU(units=32, return_sequences=True)(gru1)\n",
        "gru_out = concatenate([gru1, gru2], axis=2)\n",
        "gru3 = GRU(units=32)(gru_out)\n",
        "\n",
        "flattened = Flatten()(conv3) # buraya ne yazarsanız onun sonucu. gru aktif değil. conv3 çıktısı alınır\n",
        "\n",
        "out = Dense(1, activation='sigmoid')(flattened) # çıkış nöronumuz ,. binary classifier\n",
        "\n",
        "model = Model(inputs=input, outputs=out)\n",
        "\n",
        "model.compile(optimizer=tf.keras.optimizers.Adam(), loss=tf.keras.losses.BinaryCrossentropy(from_logits=True), metrics=['accuracy'])"
      ],
      "metadata": {
        "id": "Cq6WQVyDbm4d"
      },
      "execution_count": null,
      "outputs": []
    },
    {
      "cell_type": "code",
      "source": [
        "# gru olmadan sonuç\n",
        "# conv katmanları sayısı değişebilir\n",
        "# PCA uygula\n",
        "# Parçalı denenebilir"
      ],
      "metadata": {
        "id": "8zoTAPKTh6sm"
      },
      "execution_count": null,
      "outputs": []
    },
    {
      "cell_type": "code",
      "source": [
        "tf.random.set_seed(42)\n",
        "hist = model.fit(X_train, y_train, epochs=5, batch_size=32, validation_data=(X_test, y_test))"
      ],
      "metadata": {
        "colab": {
          "base_uri": "https://localhost:8080/"
        },
        "id": "lNBpPQ7KccVT",
        "outputId": "ce498a20-4e2a-4b06-918f-ce2949caf257"
      },
      "execution_count": null,
      "outputs": [
        {
          "output_type": "stream",
          "name": "stdout",
          "text": [
            "Epoch 1/5\n"
          ]
        },
        {
          "output_type": "stream",
          "name": "stderr",
          "text": [
            "/usr/local/lib/python3.8/dist-packages/tensorflow/python/util/dispatch.py:1082: UserWarning: \"`binary_crossentropy` received `from_logits=True`, but the `output` argument was produced by a sigmoid or softmax activation and thus does not represent logits. Was this intended?\"\n",
            "  return dispatch_target(*args, **kwargs)\n"
          ]
        },
        {
          "output_type": "stream",
          "name": "stdout",
          "text": [
            "11248/11248 [==============================] - 93s 8ms/step - loss: 0.1410 - accuracy: 0.9641 - val_loss: 0.1735 - val_accuracy: 0.9618\n",
            "Epoch 2/5\n",
            "11248/11248 [==============================] - 94s 8ms/step - loss: 0.1285 - accuracy: 0.9671 - val_loss: 0.1671 - val_accuracy: 0.9614\n",
            "Epoch 3/5\n",
            "11248/11248 [==============================] - 88s 8ms/step - loss: 0.1247 - accuracy: 0.9678 - val_loss: 0.1960 - val_accuracy: 0.9451\n",
            "Epoch 4/5\n",
            "11248/11248 [==============================] - 91s 8ms/step - loss: 0.1224 - accuracy: 0.9680 - val_loss: 0.1540 - val_accuracy: 0.9637\n",
            "Epoch 5/5\n",
            "11248/11248 [==============================] - 89s 8ms/step - loss: 0.1204 - accuracy: 0.9681 - val_loss: 0.1677 - val_accuracy: 0.9616\n"
          ]
        }
      ]
    },
    {
      "cell_type": "code",
      "source": [
        "x =  tf.round(model.predict(X_test))\n",
        "pre = tf.keras.metrics.Precision()\n",
        "pre.update_state(y_test, x)\n",
        "\n",
        "recall = tf.keras.metrics.Recall()\n",
        "recall.update_state(y_test, x)\n",
        "\n",
        "acc = tf.keras.metrics.Accuracy()\n",
        "acc.update_state(y_test, x)\n",
        "  \n",
        "fp = tf.keras.metrics.FalsePositives()\n",
        "fn = tf.keras.metrics.FalseNegatives()\n",
        "tp = tf.keras.metrics.TruePositives()\n",
        "tn = tf.keras.metrics.TrueNegatives()\n",
        "fp.update_state(y_test, x)\n",
        "fn.update_state(y_test, x)\n",
        "tp.update_state(y_test, x)\n",
        "tn.update_state(y_test, x)\n",
        "\n",
        "print(f'Precision: {pre.result().numpy()}')\n",
        "print(f'Recall: {recall.result().numpy()}')\n",
        "print(f'TP: {tp.result().numpy()}')\n",
        "print(f'TN: {tn.result().numpy()}')\n",
        "print(f'FP: {fp.result().numpy()}')\n",
        "print(f'FN: {fn.result().numpy()}')"
      ],
      "metadata": {
        "id": "Ii8xmSy9dxmC",
        "colab": {
          "base_uri": "https://localhost:8080/"
        },
        "outputId": "1e5a184a-843e-44eb-b62a-5779770f0c27"
      },
      "execution_count": null,
      "outputs": [
        {
          "output_type": "stream",
          "name": "stdout",
          "text": [
            "2812/2812 [==============================] - 5s 2ms/step\n",
            "Precision: 0.9632784724235535\n",
            "Recall: 0.999039351940155\n",
            "TP: 79037.0\n",
            "TN: 7858.0\n",
            "FP: 3013.0\n",
            "FN: 76.0\n"
          ]
        }
      ]
    },
    {
      "cell_type": "code",
      "source": [],
      "metadata": {
        "id": "ytrtajj9zKir"
      },
      "execution_count": null,
      "outputs": []
    },
    {
      "cell_type": "code",
      "source": [
        "2*pre.result().numpy()*recall.result().numpy()/(pre.result().numpy() +recall.result().numpy())"
      ],
      "metadata": {
        "colab": {
          "base_uri": "https://localhost:8080/"
        },
        "id": "QFBZ5Ug3gyy-",
        "outputId": "4a2ef1e9-db53-4d69-91df-12de93a9b465"
      },
      "execution_count": null,
      "outputs": [
        {
          "output_type": "execute_result",
          "data": {
            "text/plain": [
              "0.9966967222343351"
            ]
          },
          "metadata": {},
          "execution_count": 71
        }
      ]
    },
    {
      "cell_type": "code",
      "source": [],
      "metadata": {
        "id": "G4LQfZVTgyvb"
      },
      "execution_count": null,
      "outputs": []
    }
  ],
  "metadata": {
    "colab": {
      "provenance": [],
      "collapsed_sections": [
        "YZ9ZUoIrd59t",
        "7rgS0h8G25RR",
        "61J0GcqX2L4K"
      ],
      "include_colab_link": true
    },
    "kernelspec": {
      "display_name": "Python 3",
      "name": "python3"
    },
    "language_info": {
      "name": "python"
    },
    "accelerator": "GPU",
    "gpuClass": "standard"
  },
  "nbformat": 4,
  "nbformat_minor": 0
}